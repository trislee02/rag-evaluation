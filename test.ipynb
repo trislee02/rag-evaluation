{
 "cells": [
  {
   "cell_type": "code",
   "execution_count": 2,
   "metadata": {},
   "outputs": [],
   "source": [
    "import pandas as pd\n",
    "import ast\n"
   ]
  },
  {
   "cell_type": "code",
   "execution_count": 8,
   "metadata": {},
   "outputs": [],
   "source": [
    "DATASET_FILE = \"eval_dataset/eval_set.csv\"\n",
    "\n",
    "df = pd.read_csv(DATASET_FILE)"
   ]
  },
  {
   "cell_type": "code",
   "execution_count": 9,
   "metadata": {},
   "outputs": [
    {
     "data": {
      "text/html": [
       "<div>\n",
       "<style scoped>\n",
       "    .dataframe tbody tr th:only-of-type {\n",
       "        vertical-align: middle;\n",
       "    }\n",
       "\n",
       "    .dataframe tbody tr th {\n",
       "        vertical-align: top;\n",
       "    }\n",
       "\n",
       "    .dataframe thead th {\n",
       "        text-align: right;\n",
       "    }\n",
       "</style>\n",
       "<table border=\"1\" class=\"dataframe\">\n",
       "  <thead>\n",
       "    <tr style=\"text-align: right;\">\n",
       "      <th></th>\n",
       "      <th>question</th>\n",
       "      <th>answer</th>\n",
       "      <th>ground_truths</th>\n",
       "      <th>contexts</th>\n",
       "    </tr>\n",
       "  </thead>\n",
       "  <tbody>\n",
       "    <tr>\n",
       "      <th>0</th>\n",
       "      <td>Hi Dennis, Ali,\\n\\nI hope this message finds y...</td>\n",
       "      <td>Hello,\\n\\nThank you for reaching out with your...</td>\n",
       "      <td>['Hi NAME,\\nQuestion 1: try something like the...</td>\n",
       "      <td>['\\nRequest: track progress of participants du...</td>\n",
       "    </tr>\n",
       "    <tr>\n",
       "      <th>1</th>\n",
       "      <td>Hello Luxai,\\n\\nI hope this message finds you ...</td>\n",
       "      <td>Hello NAME,\\n\\nThank you for reaching out to u...</td>\n",
       "      <td>[\"Hi NAME,\\n\\nLooking at your graphs and what ...</td>\n",
       "      <td>['\\nRequest: reduce difference between backgro...</td>\n",
       "    </tr>\n",
       "    <tr>\n",
       "      <th>2</th>\n",
       "      <td>Hi LuxAI Team,\\n\\nOur research lab at XYZ Univ...</td>\n",
       "      <td>Dear NAME,\\n\\nThank you for reaching out to us...</td>\n",
       "      <td>['Hello NAME,\\n\\nI hope you are having a great...</td>\n",
       "      <td>['\\nRequest: update or exchange version 1 QTRo...</td>\n",
       "    </tr>\n",
       "    <tr>\n",
       "      <th>3</th>\n",
       "      <td>Dear Denis,\\n\\nI hope this email finds you wel...</td>\n",
       "      <td>Dear NAME,\\n\\nThank you for reaching out to us...</td>\n",
       "      <td>[\"Dear NAME,\\n\\n\\nIt's very nice meeting you, ...</td>\n",
       "      <td>[\"\\nRequest: request assistance in programming...</td>\n",
       "    </tr>\n",
       "    <tr>\n",
       "      <th>4</th>\n",
       "      <td>Good Morning, we have been experiencing some i...</td>\n",
       "      <td>Hello,\\n\\nThank you for bringing this issue to...</td>\n",
       "      <td>['Hi NAME,\\n\\n\\nThanks for letting us know. I ...</td>\n",
       "      <td>[\"\\nRequest: resolve QTrobot head pitch issue\\...</td>\n",
       "    </tr>\n",
       "    <tr>\n",
       "      <th>5</th>\n",
       "      <td>Hi Denis,\\n\\nI hope this message finds you wel...</td>\n",
       "      <td>Hello NAME,\\n\\nThank you for reaching out. Reg...</td>\n",
       "      <td>[\"Hi NAME,\\n\\n\\nThanks for contacting us.\\nOn ...</td>\n",
       "      <td>['\\nRequest: remotely access QTrobot for resea...</td>\n",
       "    </tr>\n",
       "    <tr>\n",
       "      <th>6</th>\n",
       "      <td>Hi Ali and/or Denis,\\n\\nI hope this message fi...</td>\n",
       "      <td>Hello NAME,\\n\\nThank you for reaching out to u...</td>\n",
       "      <td>['Hi NAME,\\nThanks for contacting us.\\nCould y...</td>\n",
       "      <td>['\\nRequest: remotely turn on and off QTRobot ...</td>\n",
       "    </tr>\n",
       "    <tr>\n",
       "      <th>7</th>\n",
       "      <td>Hello, I hope you are doing well. I am facing ...</td>\n",
       "      <td>Hello NAME,\\n\\nI'm sorry to hear that you are ...</td>\n",
       "      <td>['Hi NAME,\\n\\nThanks for contacting us. Yes of...</td>\n",
       "      <td>['\\nRequest: retrieve data from Nuitrack\\n\\nAn...</td>\n",
       "    </tr>\n",
       "    <tr>\n",
       "      <th>8</th>\n",
       "      <td>Message: Hello,\\nI am interested in finding ou...</td>\n",
       "      <td>Hello,\\n\\nTo create a Python program for QTrob...</td>\n",
       "      <td>['Hi NAME,\\n\\nIs there any specific reason for...</td>\n",
       "      <td>['\\nRequest: create Python program for QTrobot...</td>\n",
       "    </tr>\n",
       "    <tr>\n",
       "      <th>9</th>\n",
       "      <td>Hi,\\n\\nI am having trouble with the respeaker ...</td>\n",
       "      <td>Hello [Your Name],\\n\\nI'm sorry to hear that y...</td>\n",
       "      <td>['Hi NAME,\\n\\n\\nNormally the \"qt_respeaker_app...</td>\n",
       "      <td>['\\nRequest: trouble with respeaker services o...</td>\n",
       "    </tr>\n",
       "  </tbody>\n",
       "</table>\n",
       "</div>"
      ],
      "text/plain": [
       "                                            question  \\\n",
       "0  Hi Dennis, Ali,\\n\\nI hope this message finds y...   \n",
       "1  Hello Luxai,\\n\\nI hope this message finds you ...   \n",
       "2  Hi LuxAI Team,\\n\\nOur research lab at XYZ Univ...   \n",
       "3  Dear Denis,\\n\\nI hope this email finds you wel...   \n",
       "4  Good Morning, we have been experiencing some i...   \n",
       "5  Hi Denis,\\n\\nI hope this message finds you wel...   \n",
       "6  Hi Ali and/or Denis,\\n\\nI hope this message fi...   \n",
       "7  Hello, I hope you are doing well. I am facing ...   \n",
       "8  Message: Hello,\\nI am interested in finding ou...   \n",
       "9  Hi,\\n\\nI am having trouble with the respeaker ...   \n",
       "\n",
       "                                              answer  \\\n",
       "0  Hello,\\n\\nThank you for reaching out with your...   \n",
       "1  Hello NAME,\\n\\nThank you for reaching out to u...   \n",
       "2  Dear NAME,\\n\\nThank you for reaching out to us...   \n",
       "3  Dear NAME,\\n\\nThank you for reaching out to us...   \n",
       "4  Hello,\\n\\nThank you for bringing this issue to...   \n",
       "5  Hello NAME,\\n\\nThank you for reaching out. Reg...   \n",
       "6  Hello NAME,\\n\\nThank you for reaching out to u...   \n",
       "7  Hello NAME,\\n\\nI'm sorry to hear that you are ...   \n",
       "8  Hello,\\n\\nTo create a Python program for QTrob...   \n",
       "9  Hello [Your Name],\\n\\nI'm sorry to hear that y...   \n",
       "\n",
       "                                       ground_truths  \\\n",
       "0  ['Hi NAME,\\nQuestion 1: try something like the...   \n",
       "1  [\"Hi NAME,\\n\\nLooking at your graphs and what ...   \n",
       "2  ['Hello NAME,\\n\\nI hope you are having a great...   \n",
       "3  [\"Dear NAME,\\n\\n\\nIt's very nice meeting you, ...   \n",
       "4  ['Hi NAME,\\n\\n\\nThanks for letting us know. I ...   \n",
       "5  [\"Hi NAME,\\n\\n\\nThanks for contacting us.\\nOn ...   \n",
       "6  ['Hi NAME,\\nThanks for contacting us.\\nCould y...   \n",
       "7  ['Hi NAME,\\n\\nThanks for contacting us. Yes of...   \n",
       "8  ['Hi NAME,\\n\\nIs there any specific reason for...   \n",
       "9  ['Hi NAME,\\n\\n\\nNormally the \"qt_respeaker_app...   \n",
       "\n",
       "                                            contexts  \n",
       "0  ['\\nRequest: track progress of participants du...  \n",
       "1  ['\\nRequest: reduce difference between backgro...  \n",
       "2  ['\\nRequest: update or exchange version 1 QTRo...  \n",
       "3  [\"\\nRequest: request assistance in programming...  \n",
       "4  [\"\\nRequest: resolve QTrobot head pitch issue\\...  \n",
       "5  ['\\nRequest: remotely access QTrobot for resea...  \n",
       "6  ['\\nRequest: remotely turn on and off QTRobot ...  \n",
       "7  ['\\nRequest: retrieve data from Nuitrack\\n\\nAn...  \n",
       "8  ['\\nRequest: create Python program for QTrobot...  \n",
       "9  ['\\nRequest: trouble with respeaker services o...  "
      ]
     },
     "execution_count": 9,
     "metadata": {},
     "output_type": "execute_result"
    }
   ],
   "source": [
    "df.head(10)"
   ]
  },
  {
   "cell_type": "code",
   "execution_count": 10,
   "metadata": {},
   "outputs": [],
   "source": [
    "df[\"contexts\"] = df[\"contexts\"].apply()"
   ]
  },
  {
   "cell_type": "code",
   "execution_count": 13,
   "metadata": {},
   "outputs": [
    {
     "ename": "IndexError",
     "evalue": "list index out of range",
     "output_type": "error",
     "traceback": [
      "\u001b[1;31m---------------------------------------------------------------------------\u001b[0m",
      "\u001b[1;31mIndexError\u001b[0m                                Traceback (most recent call last)",
      "\u001b[1;32mf:\\Internship\\Workspaces\\rag-evaluation\\test.ipynb Cell 5\u001b[0m line \u001b[0;36m1\n\u001b[1;32m----> <a href='vscode-notebook-cell:/f%3A/Internship/Workspaces/rag-evaluation/test.ipynb#W3sZmlsZQ%3D%3D?line=0'>1</a>\u001b[0m df[\u001b[39m\"\u001b[39;49m\u001b[39mcontexts\u001b[39;49m\u001b[39m\"\u001b[39;49m][\u001b[39m0\u001b[39;49m][\u001b[39m1\u001b[39;49m]\n",
      "\u001b[1;31mIndexError\u001b[0m: list index out of range"
     ]
    }
   ],
   "source": [
    "df[\"contexts\"][0][1]"
   ]
  }
 ],
 "metadata": {
  "kernelspec": {
   "display_name": "Python 3",
   "language": "python",
   "name": "python3"
  },
  "language_info": {
   "codemirror_mode": {
    "name": "ipython",
    "version": 3
   },
   "file_extension": ".py",
   "mimetype": "text/x-python",
   "name": "python",
   "nbconvert_exporter": "python",
   "pygments_lexer": "ipython3",
   "version": "3.10.13"
  }
 },
 "nbformat": 4,
 "nbformat_minor": 2
}
